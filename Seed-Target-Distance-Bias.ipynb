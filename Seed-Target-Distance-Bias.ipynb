{
 "cells": [
  {
   "cell_type": "markdown",
   "metadata": {},
   "source": [
    "# Intro\n",
    "In this notebook, we analyze the idea of envelope fit for Distance vs Connection strength. The results here are for subject 192237."
   ]
  },
  {
   "cell_type": "markdown",
   "metadata": {},
   "source": [
    "### Plots\n",
    "First, we look at the plots for 9 ROI pairs that are strongly connected in three cohorts.\n",
    "> We define strongly connected if there is a seed in source connected to the target by 2500 streamlines.\n",
    "\n",
    " - Group 1: D < 20\n",
    " - Group 2: 20 < D < 50\n",
    " - Group 3: D > 50"
   ]
  },
  {
   "cell_type": "code",
   "execution_count": null,
   "metadata": {},
   "outputs": [],
   "source": []
  }
 ],
 "metadata": {
  "kernelspec": {
   "display_name": "Python 3",
   "language": "python",
   "name": "python3"
  },
  "language_info": {
   "codemirror_mode": {
    "name": "ipython",
    "version": 3
   },
   "file_extension": ".py",
   "mimetype": "text/x-python",
   "name": "python",
   "nbconvert_exporter": "python",
   "pygments_lexer": "ipython3",
   "version": "3.6.2"
  }
 },
 "nbformat": 4,
 "nbformat_minor": 2
}
