{
 "cells": [
  {
   "cell_type": "markdown",
   "metadata": {},
   "source": [
    "# Constaint NAR effect\n",
    "In this notebook, we try to answer why there is a relatively wide flat region in NAR-Threshold plot"
   ]
  },
  {
   "cell_type": "code",
   "execution_count": 3,
   "metadata": {},
   "outputs": [],
   "source": [
    "from utils import *\n",
    "import matplotlib.pyplot as plt\n",
    "import pickle as pk\n",
    "%matplotlib inline\n",
    "d, a, t = basic_results('206929')"
   ]
  },
  {
   "cell_type": "code",
   "execution_count": 6,
   "metadata": {},
   "outputs": [
    {
     "data": {
      "text/plain": [
       "[2949,\n",
       " 2948,\n",
       " 2947,\n",
       " 2946,\n",
       " 2945,\n",
       " 2944,\n",
       " 2943,\n",
       " 2942,\n",
       " 2941,\n",
       " 2940,\n",
       " 2939,\n",
       " 2938,\n",
       " 2937,\n",
       " 2936,\n",
       " 2935,\n",
       " 2934,\n",
       " 2933,\n",
       " 2932,\n",
       " 2931,\n",
       " 2930]"
      ]
     },
     "execution_count": 6,
     "metadata": {},
     "output_type": "execute_result"
    }
   ],
   "source": [
    "t[2000:2020]"
   ]
  },
  {
   "cell_type": "markdown",
   "metadata": {},
   "source": [
    "Lets look at the spectrum between 3000 and 2000. Each time the threshold is decreased three things can happen:\n",
    " - New unidirection edge is added (code -1 and green)\n",
    " - An existing unidirectional edge becomes bidirectional (code 1 and green)  \n",
    " - Network does not change (code 0 black)\n",
    " \n",
    "The plot below shows the order of these three events in the range [2000 - 3000]\n"
   ]
  },
  {
   "cell_type": "code",
   "execution_count": null,
   "metadata": {},
   "outputs": [],
   "source": []
  }
 ],
 "metadata": {
  "kernelspec": {
   "display_name": "Python 3",
   "language": "python",
   "name": "python3"
  },
  "language_info": {
   "codemirror_mode": {
    "name": "ipython",
    "version": 3
   },
   "file_extension": ".py",
   "mimetype": "text/x-python",
   "name": "python",
   "nbconvert_exporter": "python",
   "pygments_lexer": "ipython3",
   "version": "3.6.2"
  }
 },
 "nbformat": 4,
 "nbformat_minor": 2
}
